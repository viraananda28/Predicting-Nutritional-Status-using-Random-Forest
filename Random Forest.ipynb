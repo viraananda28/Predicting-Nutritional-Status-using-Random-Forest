{
  "nbformat": 4,
  "nbformat_minor": 0,
  "metadata": {
    "colab": {
      "provenance": []
    },
    "kernelspec": {
      "name": "python3",
      "display_name": "Python 3"
    },
    "language_info": {
      "name": "python"
    }
  },
  "cells": [
    {
      "cell_type": "code",
      "execution_count": 1,
      "metadata": {
        "id": "4uPS8V42OvcW"
      },
      "outputs": [],
      "source": [
        "#  Import Library\n",
        "import pandas as pd\n",
        "import matplotlib.pyplot as plt\n",
        "import seaborn as sns\n",
        "import numpy as np\n",
        "from sklearn.model_selection import train_test_split\n",
        "from sklearn.ensemble import RandomForestClassifier\n",
        "from sklearn.metrics import accuracy_score, classification_report, confusion_matrix\n"
      ]
    },
    {
      "cell_type": "code",
      "source": [
        "# Membaca file CSV\n",
        "df = pd.read_csv('data_stunting 1.csv')\n",
        "df"
      ],
      "metadata": {
        "colab": {
          "base_uri": "https://localhost:8080/",
          "height": 423
        },
        "id": "F4HT8C9TPF9L",
        "outputId": "0bc32fbc-514e-48ea-da22-e692d0cd2856"
      },
      "execution_count": 2,
      "outputs": [
        {
          "output_type": "execute_result",
          "data": {
            "text/plain": [
              "        Umur (bulan) Jenis Kelamin  Tinggi Badan (cm)       Status Gizi\n",
              "0                  0     laki-laki          44.591973           stunted\n",
              "1                  0     laki-laki          56.705203            tinggi\n",
              "2                  0     laki-laki          46.863358            normal\n",
              "3                  0     laki-laki          47.508026            normal\n",
              "4                  0     laki-laki          42.743494  severely stunted\n",
              "...              ...           ...                ...               ...\n",
              "120994            60     perempuan         100.600000            normal\n",
              "120995            60     perempuan          98.300000           stunted\n",
              "120996            60     perempuan         121.300000            normal\n",
              "120997            60     perempuan         112.200000            normal\n",
              "120998            60     perempuan         109.800000            normal\n",
              "\n",
              "[120999 rows x 4 columns]"
            ],
            "text/html": [
              "\n",
              "  <div id=\"df-3afb91b6-09fb-4014-ac4a-7ad3bde4031c\" class=\"colab-df-container\">\n",
              "    <div>\n",
              "<style scoped>\n",
              "    .dataframe tbody tr th:only-of-type {\n",
              "        vertical-align: middle;\n",
              "    }\n",
              "\n",
              "    .dataframe tbody tr th {\n",
              "        vertical-align: top;\n",
              "    }\n",
              "\n",
              "    .dataframe thead th {\n",
              "        text-align: right;\n",
              "    }\n",
              "</style>\n",
              "<table border=\"1\" class=\"dataframe\">\n",
              "  <thead>\n",
              "    <tr style=\"text-align: right;\">\n",
              "      <th></th>\n",
              "      <th>Umur (bulan)</th>\n",
              "      <th>Jenis Kelamin</th>\n",
              "      <th>Tinggi Badan (cm)</th>\n",
              "      <th>Status Gizi</th>\n",
              "    </tr>\n",
              "  </thead>\n",
              "  <tbody>\n",
              "    <tr>\n",
              "      <th>0</th>\n",
              "      <td>0</td>\n",
              "      <td>laki-laki</td>\n",
              "      <td>44.591973</td>\n",
              "      <td>stunted</td>\n",
              "    </tr>\n",
              "    <tr>\n",
              "      <th>1</th>\n",
              "      <td>0</td>\n",
              "      <td>laki-laki</td>\n",
              "      <td>56.705203</td>\n",
              "      <td>tinggi</td>\n",
              "    </tr>\n",
              "    <tr>\n",
              "      <th>2</th>\n",
              "      <td>0</td>\n",
              "      <td>laki-laki</td>\n",
              "      <td>46.863358</td>\n",
              "      <td>normal</td>\n",
              "    </tr>\n",
              "    <tr>\n",
              "      <th>3</th>\n",
              "      <td>0</td>\n",
              "      <td>laki-laki</td>\n",
              "      <td>47.508026</td>\n",
              "      <td>normal</td>\n",
              "    </tr>\n",
              "    <tr>\n",
              "      <th>4</th>\n",
              "      <td>0</td>\n",
              "      <td>laki-laki</td>\n",
              "      <td>42.743494</td>\n",
              "      <td>severely stunted</td>\n",
              "    </tr>\n",
              "    <tr>\n",
              "      <th>...</th>\n",
              "      <td>...</td>\n",
              "      <td>...</td>\n",
              "      <td>...</td>\n",
              "      <td>...</td>\n",
              "    </tr>\n",
              "    <tr>\n",
              "      <th>120994</th>\n",
              "      <td>60</td>\n",
              "      <td>perempuan</td>\n",
              "      <td>100.600000</td>\n",
              "      <td>normal</td>\n",
              "    </tr>\n",
              "    <tr>\n",
              "      <th>120995</th>\n",
              "      <td>60</td>\n",
              "      <td>perempuan</td>\n",
              "      <td>98.300000</td>\n",
              "      <td>stunted</td>\n",
              "    </tr>\n",
              "    <tr>\n",
              "      <th>120996</th>\n",
              "      <td>60</td>\n",
              "      <td>perempuan</td>\n",
              "      <td>121.300000</td>\n",
              "      <td>normal</td>\n",
              "    </tr>\n",
              "    <tr>\n",
              "      <th>120997</th>\n",
              "      <td>60</td>\n",
              "      <td>perempuan</td>\n",
              "      <td>112.200000</td>\n",
              "      <td>normal</td>\n",
              "    </tr>\n",
              "    <tr>\n",
              "      <th>120998</th>\n",
              "      <td>60</td>\n",
              "      <td>perempuan</td>\n",
              "      <td>109.800000</td>\n",
              "      <td>normal</td>\n",
              "    </tr>\n",
              "  </tbody>\n",
              "</table>\n",
              "<p>120999 rows × 4 columns</p>\n",
              "</div>\n",
              "    <div class=\"colab-df-buttons\">\n",
              "\n",
              "  <div class=\"colab-df-container\">\n",
              "    <button class=\"colab-df-convert\" onclick=\"convertToInteractive('df-3afb91b6-09fb-4014-ac4a-7ad3bde4031c')\"\n",
              "            title=\"Convert this dataframe to an interactive table.\"\n",
              "            style=\"display:none;\">\n",
              "\n",
              "  <svg xmlns=\"http://www.w3.org/2000/svg\" height=\"24px\" viewBox=\"0 -960 960 960\">\n",
              "    <path d=\"M120-120v-720h720v720H120Zm60-500h600v-160H180v160Zm220 220h160v-160H400v160Zm0 220h160v-160H400v160ZM180-400h160v-160H180v160Zm440 0h160v-160H620v160ZM180-180h160v-160H180v160Zm440 0h160v-160H620v160Z\"/>\n",
              "  </svg>\n",
              "    </button>\n",
              "\n",
              "  <style>\n",
              "    .colab-df-container {\n",
              "      display:flex;\n",
              "      gap: 12px;\n",
              "    }\n",
              "\n",
              "    .colab-df-convert {\n",
              "      background-color: #E8F0FE;\n",
              "      border: none;\n",
              "      border-radius: 50%;\n",
              "      cursor: pointer;\n",
              "      display: none;\n",
              "      fill: #1967D2;\n",
              "      height: 32px;\n",
              "      padding: 0 0 0 0;\n",
              "      width: 32px;\n",
              "    }\n",
              "\n",
              "    .colab-df-convert:hover {\n",
              "      background-color: #E2EBFA;\n",
              "      box-shadow: 0px 1px 2px rgba(60, 64, 67, 0.3), 0px 1px 3px 1px rgba(60, 64, 67, 0.15);\n",
              "      fill: #174EA6;\n",
              "    }\n",
              "\n",
              "    .colab-df-buttons div {\n",
              "      margin-bottom: 4px;\n",
              "    }\n",
              "\n",
              "    [theme=dark] .colab-df-convert {\n",
              "      background-color: #3B4455;\n",
              "      fill: #D2E3FC;\n",
              "    }\n",
              "\n",
              "    [theme=dark] .colab-df-convert:hover {\n",
              "      background-color: #434B5C;\n",
              "      box-shadow: 0px 1px 3px 1px rgba(0, 0, 0, 0.15);\n",
              "      filter: drop-shadow(0px 1px 2px rgba(0, 0, 0, 0.3));\n",
              "      fill: #FFFFFF;\n",
              "    }\n",
              "  </style>\n",
              "\n",
              "    <script>\n",
              "      const buttonEl =\n",
              "        document.querySelector('#df-3afb91b6-09fb-4014-ac4a-7ad3bde4031c button.colab-df-convert');\n",
              "      buttonEl.style.display =\n",
              "        google.colab.kernel.accessAllowed ? 'block' : 'none';\n",
              "\n",
              "      async function convertToInteractive(key) {\n",
              "        const element = document.querySelector('#df-3afb91b6-09fb-4014-ac4a-7ad3bde4031c');\n",
              "        const dataTable =\n",
              "          await google.colab.kernel.invokeFunction('convertToInteractive',\n",
              "                                                    [key], {});\n",
              "        if (!dataTable) return;\n",
              "\n",
              "        const docLinkHtml = 'Like what you see? Visit the ' +\n",
              "          '<a target=\"_blank\" href=https://colab.research.google.com/notebooks/data_table.ipynb>data table notebook</a>'\n",
              "          + ' to learn more about interactive tables.';\n",
              "        element.innerHTML = '';\n",
              "        dataTable['output_type'] = 'display_data';\n",
              "        await google.colab.output.renderOutput(dataTable, element);\n",
              "        const docLink = document.createElement('div');\n",
              "        docLink.innerHTML = docLinkHtml;\n",
              "        element.appendChild(docLink);\n",
              "      }\n",
              "    </script>\n",
              "  </div>\n",
              "\n",
              "\n",
              "<div id=\"df-8d9c6f62-8183-40c3-9537-faeae4b4041d\">\n",
              "  <button class=\"colab-df-quickchart\" onclick=\"quickchart('df-8d9c6f62-8183-40c3-9537-faeae4b4041d')\"\n",
              "            title=\"Suggest charts\"\n",
              "            style=\"display:none;\">\n",
              "\n",
              "<svg xmlns=\"http://www.w3.org/2000/svg\" height=\"24px\"viewBox=\"0 0 24 24\"\n",
              "     width=\"24px\">\n",
              "    <g>\n",
              "        <path d=\"M19 3H5c-1.1 0-2 .9-2 2v14c0 1.1.9 2 2 2h14c1.1 0 2-.9 2-2V5c0-1.1-.9-2-2-2zM9 17H7v-7h2v7zm4 0h-2V7h2v10zm4 0h-2v-4h2v4z\"/>\n",
              "    </g>\n",
              "</svg>\n",
              "  </button>\n",
              "\n",
              "<style>\n",
              "  .colab-df-quickchart {\n",
              "      --bg-color: #E8F0FE;\n",
              "      --fill-color: #1967D2;\n",
              "      --hover-bg-color: #E2EBFA;\n",
              "      --hover-fill-color: #174EA6;\n",
              "      --disabled-fill-color: #AAA;\n",
              "      --disabled-bg-color: #DDD;\n",
              "  }\n",
              "\n",
              "  [theme=dark] .colab-df-quickchart {\n",
              "      --bg-color: #3B4455;\n",
              "      --fill-color: #D2E3FC;\n",
              "      --hover-bg-color: #434B5C;\n",
              "      --hover-fill-color: #FFFFFF;\n",
              "      --disabled-bg-color: #3B4455;\n",
              "      --disabled-fill-color: #666;\n",
              "  }\n",
              "\n",
              "  .colab-df-quickchart {\n",
              "    background-color: var(--bg-color);\n",
              "    border: none;\n",
              "    border-radius: 50%;\n",
              "    cursor: pointer;\n",
              "    display: none;\n",
              "    fill: var(--fill-color);\n",
              "    height: 32px;\n",
              "    padding: 0;\n",
              "    width: 32px;\n",
              "  }\n",
              "\n",
              "  .colab-df-quickchart:hover {\n",
              "    background-color: var(--hover-bg-color);\n",
              "    box-shadow: 0 1px 2px rgba(60, 64, 67, 0.3), 0 1px 3px 1px rgba(60, 64, 67, 0.15);\n",
              "    fill: var(--button-hover-fill-color);\n",
              "  }\n",
              "\n",
              "  .colab-df-quickchart-complete:disabled,\n",
              "  .colab-df-quickchart-complete:disabled:hover {\n",
              "    background-color: var(--disabled-bg-color);\n",
              "    fill: var(--disabled-fill-color);\n",
              "    box-shadow: none;\n",
              "  }\n",
              "\n",
              "  .colab-df-spinner {\n",
              "    border: 2px solid var(--fill-color);\n",
              "    border-color: transparent;\n",
              "    border-bottom-color: var(--fill-color);\n",
              "    animation:\n",
              "      spin 1s steps(1) infinite;\n",
              "  }\n",
              "\n",
              "  @keyframes spin {\n",
              "    0% {\n",
              "      border-color: transparent;\n",
              "      border-bottom-color: var(--fill-color);\n",
              "      border-left-color: var(--fill-color);\n",
              "    }\n",
              "    20% {\n",
              "      border-color: transparent;\n",
              "      border-left-color: var(--fill-color);\n",
              "      border-top-color: var(--fill-color);\n",
              "    }\n",
              "    30% {\n",
              "      border-color: transparent;\n",
              "      border-left-color: var(--fill-color);\n",
              "      border-top-color: var(--fill-color);\n",
              "      border-right-color: var(--fill-color);\n",
              "    }\n",
              "    40% {\n",
              "      border-color: transparent;\n",
              "      border-right-color: var(--fill-color);\n",
              "      border-top-color: var(--fill-color);\n",
              "    }\n",
              "    60% {\n",
              "      border-color: transparent;\n",
              "      border-right-color: var(--fill-color);\n",
              "    }\n",
              "    80% {\n",
              "      border-color: transparent;\n",
              "      border-right-color: var(--fill-color);\n",
              "      border-bottom-color: var(--fill-color);\n",
              "    }\n",
              "    90% {\n",
              "      border-color: transparent;\n",
              "      border-bottom-color: var(--fill-color);\n",
              "    }\n",
              "  }\n",
              "</style>\n",
              "\n",
              "  <script>\n",
              "    async function quickchart(key) {\n",
              "      const quickchartButtonEl =\n",
              "        document.querySelector('#' + key + ' button');\n",
              "      quickchartButtonEl.disabled = true;  // To prevent multiple clicks.\n",
              "      quickchartButtonEl.classList.add('colab-df-spinner');\n",
              "      try {\n",
              "        const charts = await google.colab.kernel.invokeFunction(\n",
              "            'suggestCharts', [key], {});\n",
              "      } catch (error) {\n",
              "        console.error('Error during call to suggestCharts:', error);\n",
              "      }\n",
              "      quickchartButtonEl.classList.remove('colab-df-spinner');\n",
              "      quickchartButtonEl.classList.add('colab-df-quickchart-complete');\n",
              "    }\n",
              "    (() => {\n",
              "      let quickchartButtonEl =\n",
              "        document.querySelector('#df-8d9c6f62-8183-40c3-9537-faeae4b4041d button');\n",
              "      quickchartButtonEl.style.display =\n",
              "        google.colab.kernel.accessAllowed ? 'block' : 'none';\n",
              "    })();\n",
              "  </script>\n",
              "</div>\n",
              "    </div>\n",
              "  </div>\n"
            ],
            "application/vnd.google.colaboratory.intrinsic+json": {
              "type": "dataframe",
              "variable_name": "df"
            }
          },
          "metadata": {},
          "execution_count": 2
        }
      ]
    },
    {
      "cell_type": "code",
      "source": [
        "#Melihat jumlah kolom dan baris pada data\n",
        "df.shape"
      ],
      "metadata": {
        "colab": {
          "base_uri": "https://localhost:8080/"
        },
        "id": "JPtvxjo5P2w_",
        "outputId": "0b70a554-f5c2-469e-fc66-8051745737cc"
      },
      "execution_count": 3,
      "outputs": [
        {
          "output_type": "execute_result",
          "data": {
            "text/plain": [
              "(120999, 4)"
            ]
          },
          "metadata": {},
          "execution_count": 3
        }
      ]
    },
    {
      "cell_type": "code",
      "source": [
        "#Melakukan pengecekan terhadap data yang kosong\n",
        "print(df.columns[df.isna().any()].tolist())\n",
        "print(df.isna().sum())"
      ],
      "metadata": {
        "colab": {
          "base_uri": "https://localhost:8080/"
        },
        "id": "_cqBXH_bP-M9",
        "outputId": "68f169e2-7573-469e-ead4-81af43201c31"
      },
      "execution_count": 4,
      "outputs": [
        {
          "output_type": "stream",
          "name": "stdout",
          "text": [
            "[]\n",
            "Umur (bulan)         0\n",
            "Jenis Kelamin        0\n",
            "Tinggi Badan (cm)    0\n",
            "Status Gizi          0\n",
            "dtype: int64\n"
          ]
        }
      ]
    },
    {
      "cell_type": "code",
      "source": [
        "# Melihat jenis data di setiap kolom\n",
        "df.dtypes"
      ],
      "metadata": {
        "colab": {
          "base_uri": "https://localhost:8080/"
        },
        "id": "L0lWpxsvQB8c",
        "outputId": "e3c5deaf-cc57-4e2d-b884-4ac982412665"
      },
      "execution_count": 5,
      "outputs": [
        {
          "output_type": "execute_result",
          "data": {
            "text/plain": [
              "Umur (bulan)           int64\n",
              "Jenis Kelamin         object\n",
              "Tinggi Badan (cm)    float64\n",
              "Status Gizi           object\n",
              "dtype: object"
            ]
          },
          "metadata": {},
          "execution_count": 5
        }
      ]
    },
    {
      "cell_type": "code",
      "source": [
        "# Menghitung jumlah kemunculan setiap kategori dalam kolom 'Status Gizi'\n",
        "status_gizi_counts = df['Status Gizi'].value_counts()\n",
        "\n",
        "# Membuat diagram lingkaran\n",
        "plt.figure(figsize=(8, 8))\n",
        "plt.pie(status_gizi_counts, labels=status_gizi_counts.index, autopct='%1.1f%%', startangle=140)\n",
        "plt.title('Distribution of Nutrition Status')\n",
        "plt.show()\n"
      ],
      "metadata": {
        "colab": {
          "base_uri": "https://localhost:8080/",
          "height": 601
        },
        "id": "IgnurFg7YQAP",
        "outputId": "9986d5e8-ed28-4803-dc2a-882bd0b6936b"
      },
      "execution_count": 24,
      "outputs": [
        {
          "output_type": "display_data",
          "data": {
            "text/plain": [
              "<Figure size 800x800 with 1 Axes>"
            ],
            "image/png": "[encoded data removed]"
          },
          "metadata": {}
        }
      ]
    },
    {
      "cell_type": "code",
      "source": [
        "# Encoding variabel kategorikal (jenis kelamin)\n",
        "df['Jenis Kelamin'] = df['Jenis Kelamin'].map({'laki-laki': 0, 'perempuan': 1})"
      ],
      "metadata": {
        "id": "JUJkoF4tRem_"
      },
      "execution_count": 10,
      "outputs": []
    },
    {
      "cell_type": "code",
      "source": [
        "# Pisahkan variabel target dan variabel fitur\n",
        "X = df.drop('Status Gizi', axis=1)  # Variabel fitur\n",
        "Y = df['Status Gizi']               # Variabel target"
      ],
      "metadata": {
        "id": "dWWCk-pBSLWn"
      },
      "execution_count": 11,
      "outputs": []
    },
    {
      "cell_type": "code",
      "source": [
        "#Pembagian dataset\n",
        "X_train, X_test, Y_train, Y_test = train_test_split(X, Y, test_size=0.2, random_state=42)"
      ],
      "metadata": {
        "id": "VhV37E98SOop"
      },
      "execution_count": 12,
      "outputs": []
    },
    {
      "cell_type": "code",
      "source": [
        "# List n_estimators yang akan digunakan\n",
        "n_estimators_list = [10, 50, 100, 150, 200]\n",
        "best_accuracy = 0\n",
        "best_n_estimators = 0\n",
        "acc_train_rf = []\n",
        "acc_test_rf = []\n",
        "\n",
        "for n_estimators in n_estimators_list:\n",
        "    # Inisialisasi model Random Forest\n",
        "    clf = RandomForestClassifier(n_estimators=n_estimators, random_state=42)\n",
        "\n",
        "    # Latih model menggunakan data latih\n",
        "    clf.fit(X_train, Y_train)\n",
        "\n",
        "    # Lakukan prediksi menggunakan data uji\n",
        "    Y_pred = clf.predict(X_test)\n",
        "\n",
        "    # Hitung akurasi model\n",
        "    accuracy = accuracy_score(Y_test, Y_pred)\n",
        "    print(f\"\\nAccuracy for n_estimators = {n_estimators}:\", accuracy)\n",
        "\n",
        "    # Tampilkan classification report\n",
        "    print(\"\\nClassification Report:\")\n",
        "    print(classification_report(Y_test, Y_pred))\n",
        "\n",
        "    # Tampilkan confusion matrix\n",
        "    print(\"\\nConfusion Matrix:\")\n",
        "    print(confusion_matrix(Y_test, Y_pred))\n",
        "\n",
        "    # Perbarui nilai best estimator jika ditemukan akurasi yang lebih tinggi\n",
        "    if accuracy > best_accuracy:\n",
        "        best_accuracy = accuracy\n",
        "        best_n_estimators = n_estimators\n",
        "\n",
        "    # Simpan akurasi untuk data latih dan data uji\n",
        "    acc_train_rf.append(clf.score(X_train, Y_train))\n",
        "    acc_test_rf.append(accuracy)\n",
        "\n",
        "# Tampilkan hasil akhir\n",
        "print(\"\\nThe best estimator is\", best_n_estimators, \"with accuracy of\", best_accuracy)"
      ],
      "metadata": {
        "colab": {
          "base_uri": "https://localhost:8080/"
        },
        "id": "63gwh4WpS9jq",
        "outputId": "fba44341-7b53-49ef-fbf5-e21d69da9ea6"
      },
      "execution_count": 22,
      "outputs": [
        {
          "output_type": "stream",
          "name": "stdout",
          "text": [
            "\n",
            "Accuracy for n_estimators = 10: 0.9989669421487604\n",
            "\n",
            "Classification Report:\n",
            "                  precision    recall  f1-score   support\n",
            "\n",
            "          normal       1.00      1.00      1.00     13382\n",
            "severely stunted       1.00      1.00      1.00      4130\n",
            "         stunted       1.00      1.00      1.00      2790\n",
            "          tinggi       1.00      1.00      1.00      3898\n",
            "\n",
            "        accuracy                           1.00     24200\n",
            "       macro avg       1.00      1.00      1.00     24200\n",
            "    weighted avg       1.00      1.00      1.00     24200\n",
            "\n",
            "\n",
            "Confusion Matrix:\n",
            "[[13376     0     6     0]\n",
            " [    0  4129     1     0]\n",
            " [    2     6  2782     0]\n",
            " [   10     0     0  3888]]\n",
            "\n",
            "Accuracy for n_estimators = 50: 0.9990909090909091\n",
            "\n",
            "Classification Report:\n",
            "                  precision    recall  f1-score   support\n",
            "\n",
            "          normal       1.00      1.00      1.00     13382\n",
            "severely stunted       1.00      1.00      1.00      4130\n",
            "         stunted       1.00      1.00      1.00      2790\n",
            "          tinggi       1.00      1.00      1.00      3898\n",
            "\n",
            "        accuracy                           1.00     24200\n",
            "       macro avg       1.00      1.00      1.00     24200\n",
            "    weighted avg       1.00      1.00      1.00     24200\n",
            "\n",
            "\n",
            "Confusion Matrix:\n",
            "[[13376     0     6     0]\n",
            " [    0  4129     1     0]\n",
            " [    1     5  2784     0]\n",
            " [    9     0     0  3889]]\n",
            "\n",
            "Accuracy for n_estimators = 100: 0.9991322314049587\n",
            "\n",
            "Classification Report:\n",
            "                  precision    recall  f1-score   support\n",
            "\n",
            "          normal       1.00      1.00      1.00     13382\n",
            "severely stunted       1.00      1.00      1.00      4130\n",
            "         stunted       1.00      1.00      1.00      2790\n",
            "          tinggi       1.00      1.00      1.00      3898\n",
            "\n",
            "        accuracy                           1.00     24200\n",
            "       macro avg       1.00      1.00      1.00     24200\n",
            "    weighted avg       1.00      1.00      1.00     24200\n",
            "\n",
            "\n",
            "Confusion Matrix:\n",
            "[[13376     0     6     0]\n",
            " [    0  4129     1     0]\n",
            " [    1     4  2785     0]\n",
            " [    9     0     0  3889]]\n",
            "\n",
            "Accuracy for n_estimators = 150: 0.9990909090909091\n",
            "\n",
            "Classification Report:\n",
            "                  precision    recall  f1-score   support\n",
            "\n",
            "          normal       1.00      1.00      1.00     13382\n",
            "severely stunted       1.00      1.00      1.00      4130\n",
            "         stunted       1.00      1.00      1.00      2790\n",
            "          tinggi       1.00      1.00      1.00      3898\n",
            "\n",
            "        accuracy                           1.00     24200\n",
            "       macro avg       1.00      1.00      1.00     24200\n",
            "    weighted avg       1.00      1.00      1.00     24200\n",
            "\n",
            "\n",
            "Confusion Matrix:\n",
            "[[13375     0     6     1]\n",
            " [    0  4129     1     0]\n",
            " [    1     4  2785     0]\n",
            " [    9     0     0  3889]]\n",
            "\n",
            "Accuracy for n_estimators = 200: 0.9990909090909091\n",
            "\n",
            "Classification Report:\n",
            "                  precision    recall  f1-score   support\n",
            "\n",
            "          normal       1.00      1.00      1.00     13382\n",
            "severely stunted       1.00      1.00      1.00      4130\n",
            "         stunted       1.00      1.00      1.00      2790\n",
            "          tinggi       1.00      1.00      1.00      3898\n",
            "\n",
            "        accuracy                           1.00     24200\n",
            "       macro avg       1.00      1.00      1.00     24200\n",
            "    weighted avg       1.00      1.00      1.00     24200\n",
            "\n",
            "\n",
            "Confusion Matrix:\n",
            "[[13375     0     6     1]\n",
            " [    0  4129     1     0]\n",
            " [    1     4  2785     0]\n",
            " [    9     0     0  3889]]\n",
            "\n",
            "The best estimator is 100 with accuracy of 0.9991322314049587\n"
          ]
        }
      ]
    },
    {
      "cell_type": "code",
      "source": [
        "# Inisialisasi model Random Forest dengan best estimator\n",
        "best_n_estimators = 100\n",
        "clf = RandomForestClassifier(n_estimators=best_n_estimators, random_state=42)\n",
        "\n",
        "# Tampilkan confusion matrix\n",
        "print(\"\\nConfusion Matrix:\")\n",
        "conf_matrix = confusion_matrix(Y_test, Y_pred)\n",
        "print(conf_matrix)\n",
        "\n",
        "# Plot confusion matrix\n",
        "plt.figure(figsize=(8, 6))\n",
        "sns.heatmap(conf_matrix, annot=True, cmap='Blues', fmt='g')\n",
        "plt.title('Confusion Matrix')\n",
        "plt.xlabel('Predicted')\n",
        "plt.ylabel('Actual')\n",
        "plt.show()\n"
      ],
      "metadata": {
        "colab": {
          "base_uri": "https://localhost:8080/",
          "height": 638
        },
        "id": "xv8IlaVGUKB_",
        "outputId": "d024bd79-134d-4504-bba6-a4617503f7e3"
      },
      "execution_count": 17,
      "outputs": [
        {
          "output_type": "stream",
          "name": "stdout",
          "text": [
            "\n",
            "Confusion Matrix:\n",
            "[[13375     0     6     1]\n",
            " [    0  4129     1     0]\n",
            " [    1     4  2785     0]\n",
            " [    9     0     0  3889]]\n"
          ]
        },
        {
          "output_type": "display_data",
          "data": {
            "text/plain": [
              "<Figure size 800x600 with 2 Axes>"
            ],
            "image/png": "[encoded data removed]"
          },
          "metadata": {}
        }
      ]
    },
    {
      "cell_type": "code",
      "source": [
        "# Plot akurasi terhadap jumlah estimators\n",
        "plt.plot(n_estimators_list, acc_train_rf, 'o-', color='blue')\n",
        "plt.plot(n_estimators_list, acc_test_rf, 'o-', color='orange')\n",
        "plt.legend(['Train set', 'Test set'])\n",
        "plt.xlabel('Number of estimators')\n",
        "plt.ylabel('Accuracy')\n",
        "plt.title('Accuracy vs. Number of Estimators')\n",
        "plt.show()"
      ],
      "metadata": {
        "colab": {
          "base_uri": "https://localhost:8080/",
          "height": 472
        },
        "id": "oX51XFetV1NQ",
        "outputId": "3a2e010b-4ad7-4005-df2a-ea7865458aff"
      },
      "execution_count": 23,
      "outputs": [
        {
          "output_type": "display_data",
          "data": {
            "text/plain": [
              "<Figure size 640x480 with 1 Axes>"
            ],
            "image/png": "[encoded data removed]"
          },
          "metadata": {}
        }
      ]
    }
  ]
}